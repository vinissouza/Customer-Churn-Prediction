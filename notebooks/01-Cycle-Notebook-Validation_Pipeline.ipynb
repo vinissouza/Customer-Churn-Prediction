{
 "cells": [
  {
   "cell_type": "markdown",
   "id": "6dd1c40f",
   "metadata": {},
   "source": [
    "# Business Context"
   ]
  },
  {
   "cell_type": "markdown",
   "id": "b69202ba",
   "metadata": {},
   "source": [
    "TopBank is a European banking services company, which offers financial products such as bank accounts, investment products and some types of insurance through physical agencies and an online portal. The company's main product is an ordinary bank account, in which customers can make deposits, withdrawals, and transfers.\n",
    "\n",
    "\n",
    "- **Business Model:** The account is free of charge for the customer for the first 12 months as a trial period, after which, if the customer renews the service for another 12 months, a fee will be charged at the end of this period proportional to the customer's salary. The amount charged varies between 15% to 20% of the client's monthly salary. If the client's salary is lower than the average salary, the fee is 15% of the monthly salary, otherwise the fee is 20%.\n",
    "\n",
    "\n",
    "- **Business Problem:** In the last few months, the number of customers canceling their accounts has been increasing, as has the company's churn rate.\n",
    "\n",
    "\n",
    "- **Main Goal:** Create a high-performance prevention model to identify the probability of a customer going into churn. \n",
    "\n",
    "\n",
    "- **Secundary Goal:** Create a report on the performance and results of the model by answering the following questions::\n",
    "    1. What is the current Churn rate of TopBank? How does it vary monthly if the data allows this analysis?\n",
    "    2. How well does the model perform in classifying customers as churn?\n",
    "    3. What is the company's revenue if it prevents customers from churning through the model?\n",
    "    4. Considering a financial incentive for customers to renew for 12 more months, with a maximum of R$10,000.00 in total for all incentives. Which customers should receive the incentive and what is the value of this incentive for each customer to maximize ROI?"
   ]
  },
  {
   "cell_type": "markdown",
   "id": "b02049ed",
   "metadata": {},
   "source": [
    "# 0.0. Imports"
   ]
  },
  {
   "cell_type": "code",
   "execution_count": 1,
   "id": "bfe987d9",
   "metadata": {
    "ExecuteTime": {
     "end_time": "2022-06-16T02:26:32.858133Z",
     "start_time": "2022-06-16T02:26:26.864435Z"
    }
   },
   "outputs": [],
   "source": [
    "# data manipulation\n",
    "import numpy as np\n",
    "import pandas as pd\n",
    "import inflection\n",
    "\n",
    "# stratifiel sampling\n",
    "from sklearn import model_selection as ms\n",
    "\n",
    "# statistics\n",
    "from scipy.stats import chi2_contingency\n",
    "\n",
    "# machine learning models\n",
    "from sklearn.ensemble import RandomForestClassifier\n",
    "\n",
    "# model evaluation\n",
    "from sklearn.metrics import accuracy_score, precision_score, recall_score"
   ]
  },
  {
   "cell_type": "markdown",
   "id": "9a8a8a59",
   "metadata": {
    "ExecuteTime": {
     "end_time": "2022-06-16T02:14:11.596377Z",
     "start_time": "2022-06-16T02:14:11.589376Z"
    }
   },
   "source": [
    "## 0.1. Auxiliar Functions"
   ]
  },
  {
   "cell_type": "code",
   "execution_count": null,
   "id": "7f79b8bc",
   "metadata": {},
   "outputs": [],
   "source": []
  },
  {
   "cell_type": "markdown",
   "id": "adaf18cf",
   "metadata": {},
   "source": [
    "## 0.2. Load Data\n",
    "\n",
    "- Data source: https://www.kaggle.com/datasets/mervetorkan/churndataset"
   ]
  },
  {
   "cell_type": "code",
   "execution_count": 2,
   "id": "26efb803",
   "metadata": {
    "ExecuteTime": {
     "end_time": "2022-06-16T02:26:33.026133Z",
     "start_time": "2022-06-16T02:26:32.862146Z"
    }
   },
   "outputs": [
    {
     "data": {
      "text/html": [
       "<div>\n",
       "<style scoped>\n",
       "    .dataframe tbody tr th:only-of-type {\n",
       "        vertical-align: middle;\n",
       "    }\n",
       "\n",
       "    .dataframe tbody tr th {\n",
       "        vertical-align: top;\n",
       "    }\n",
       "\n",
       "    .dataframe thead th {\n",
       "        text-align: right;\n",
       "    }\n",
       "</style>\n",
       "<table border=\"1\" class=\"dataframe\">\n",
       "  <thead>\n",
       "    <tr style=\"text-align: right;\">\n",
       "      <th></th>\n",
       "      <th>row_number</th>\n",
       "      <th>customer_id</th>\n",
       "      <th>surname</th>\n",
       "      <th>credit_score</th>\n",
       "      <th>geography</th>\n",
       "      <th>gender</th>\n",
       "      <th>age</th>\n",
       "      <th>tenure</th>\n",
       "      <th>balance</th>\n",
       "      <th>num_of_products</th>\n",
       "      <th>has_cr_card</th>\n",
       "      <th>is_active_member</th>\n",
       "      <th>estimated_salary</th>\n",
       "      <th>exited</th>\n",
       "    </tr>\n",
       "  </thead>\n",
       "  <tbody>\n",
       "    <tr>\n",
       "      <th>4936</th>\n",
       "      <td>4937</td>\n",
       "      <td>15792986</td>\n",
       "      <td>T'ao</td>\n",
       "      <td>580</td>\n",
       "      <td>Germany</td>\n",
       "      <td>Male</td>\n",
       "      <td>24</td>\n",
       "      <td>1</td>\n",
       "      <td>133811.78</td>\n",
       "      <td>1</td>\n",
       "      <td>1</td>\n",
       "      <td>0</td>\n",
       "      <td>17185.95</td>\n",
       "      <td>1</td>\n",
       "    </tr>\n",
       "    <tr>\n",
       "      <th>6770</th>\n",
       "      <td>6771</td>\n",
       "      <td>15815295</td>\n",
       "      <td>John</td>\n",
       "      <td>662</td>\n",
       "      <td>France</td>\n",
       "      <td>Female</td>\n",
       "      <td>38</td>\n",
       "      <td>2</td>\n",
       "      <td>96479.81</td>\n",
       "      <td>1</td>\n",
       "      <td>1</td>\n",
       "      <td>0</td>\n",
       "      <td>120259.41</td>\n",
       "      <td>0</td>\n",
       "    </tr>\n",
       "    <tr>\n",
       "      <th>7957</th>\n",
       "      <td>7958</td>\n",
       "      <td>15582149</td>\n",
       "      <td>Ts'ui</td>\n",
       "      <td>850</td>\n",
       "      <td>Germany</td>\n",
       "      <td>Female</td>\n",
       "      <td>34</td>\n",
       "      <td>3</td>\n",
       "      <td>129668.43</td>\n",
       "      <td>2</td>\n",
       "      <td>1</td>\n",
       "      <td>1</td>\n",
       "      <td>88743.99</td>\n",
       "      <td>0</td>\n",
       "    </tr>\n",
       "    <tr>\n",
       "      <th>4629</th>\n",
       "      <td>4630</td>\n",
       "      <td>15687153</td>\n",
       "      <td>Graham</td>\n",
       "      <td>850</td>\n",
       "      <td>Germany</td>\n",
       "      <td>Male</td>\n",
       "      <td>49</td>\n",
       "      <td>8</td>\n",
       "      <td>98649.55</td>\n",
       "      <td>1</td>\n",
       "      <td>1</td>\n",
       "      <td>0</td>\n",
       "      <td>119174.88</td>\n",
       "      <td>1</td>\n",
       "    </tr>\n",
       "    <tr>\n",
       "      <th>1421</th>\n",
       "      <td>1422</td>\n",
       "      <td>15742378</td>\n",
       "      <td>Swaim</td>\n",
       "      <td>520</td>\n",
       "      <td>Germany</td>\n",
       "      <td>Male</td>\n",
       "      <td>32</td>\n",
       "      <td>5</td>\n",
       "      <td>110029.77</td>\n",
       "      <td>1</td>\n",
       "      <td>1</td>\n",
       "      <td>0</td>\n",
       "      <td>56246.69</td>\n",
       "      <td>0</td>\n",
       "    </tr>\n",
       "    <tr>\n",
       "      <th>1554</th>\n",
       "      <td>1555</td>\n",
       "      <td>15779481</td>\n",
       "      <td>Swadling</td>\n",
       "      <td>628</td>\n",
       "      <td>France</td>\n",
       "      <td>Male</td>\n",
       "      <td>34</td>\n",
       "      <td>4</td>\n",
       "      <td>158741.43</td>\n",
       "      <td>2</td>\n",
       "      <td>1</td>\n",
       "      <td>1</td>\n",
       "      <td>126192.54</td>\n",
       "      <td>0</td>\n",
       "    </tr>\n",
       "    <tr>\n",
       "      <th>1160</th>\n",
       "      <td>1161</td>\n",
       "      <td>15719348</td>\n",
       "      <td>Tsao</td>\n",
       "      <td>513</td>\n",
       "      <td>France</td>\n",
       "      <td>Male</td>\n",
       "      <td>35</td>\n",
       "      <td>8</td>\n",
       "      <td>0.00</td>\n",
       "      <td>1</td>\n",
       "      <td>1</td>\n",
       "      <td>0</td>\n",
       "      <td>76640.29</td>\n",
       "      <td>1</td>\n",
       "    </tr>\n",
       "    <tr>\n",
       "      <th>889</th>\n",
       "      <td>890</td>\n",
       "      <td>15600462</td>\n",
       "      <td>Barwell</td>\n",
       "      <td>542</td>\n",
       "      <td>France</td>\n",
       "      <td>Female</td>\n",
       "      <td>43</td>\n",
       "      <td>8</td>\n",
       "      <td>145618.37</td>\n",
       "      <td>1</td>\n",
       "      <td>0</td>\n",
       "      <td>1</td>\n",
       "      <td>10350.74</td>\n",
       "      <td>0</td>\n",
       "    </tr>\n",
       "    <tr>\n",
       "      <th>9103</th>\n",
       "      <td>9104</td>\n",
       "      <td>15728362</td>\n",
       "      <td>Robertson</td>\n",
       "      <td>671</td>\n",
       "      <td>France</td>\n",
       "      <td>Female</td>\n",
       "      <td>29</td>\n",
       "      <td>3</td>\n",
       "      <td>0.00</td>\n",
       "      <td>2</td>\n",
       "      <td>1</td>\n",
       "      <td>0</td>\n",
       "      <td>158043.11</td>\n",
       "      <td>0</td>\n",
       "    </tr>\n",
       "    <tr>\n",
       "      <th>4727</th>\n",
       "      <td>4728</td>\n",
       "      <td>15641822</td>\n",
       "      <td>Barese</td>\n",
       "      <td>648</td>\n",
       "      <td>France</td>\n",
       "      <td>Female</td>\n",
       "      <td>19</td>\n",
       "      <td>1</td>\n",
       "      <td>0.00</td>\n",
       "      <td>2</td>\n",
       "      <td>0</td>\n",
       "      <td>1</td>\n",
       "      <td>22101.86</td>\n",
       "      <td>0</td>\n",
       "    </tr>\n",
       "  </tbody>\n",
       "</table>\n",
       "</div>"
      ],
      "text/plain": [
       "      row_number  customer_id    surname  credit_score geography  gender  age  \\\n",
       "4936        4937     15792986       T'ao           580   Germany    Male   24   \n",
       "6770        6771     15815295       John           662    France  Female   38   \n",
       "7957        7958     15582149      Ts'ui           850   Germany  Female   34   \n",
       "4629        4630     15687153     Graham           850   Germany    Male   49   \n",
       "1421        1422     15742378      Swaim           520   Germany    Male   32   \n",
       "1554        1555     15779481   Swadling           628    France    Male   34   \n",
       "1160        1161     15719348       Tsao           513    France    Male   35   \n",
       "889          890     15600462    Barwell           542    France  Female   43   \n",
       "9103        9104     15728362  Robertson           671    France  Female   29   \n",
       "4727        4728     15641822     Barese           648    France  Female   19   \n",
       "\n",
       "      tenure    balance  num_of_products  has_cr_card  is_active_member  \\\n",
       "4936       1  133811.78                1            1                 0   \n",
       "6770       2   96479.81                1            1                 0   \n",
       "7957       3  129668.43                2            1                 1   \n",
       "4629       8   98649.55                1            1                 0   \n",
       "1421       5  110029.77                1            1                 0   \n",
       "1554       4  158741.43                2            1                 1   \n",
       "1160       8       0.00                1            1                 0   \n",
       "889        8  145618.37                1            0                 1   \n",
       "9103       3       0.00                2            1                 0   \n",
       "4727       1       0.00                2            0                 1   \n",
       "\n",
       "      estimated_salary  exited  \n",
       "4936          17185.95       1  \n",
       "6770         120259.41       0  \n",
       "7957          88743.99       0  \n",
       "4629         119174.88       1  \n",
       "1421          56246.69       0  \n",
       "1554         126192.54       0  \n",
       "1160          76640.29       1  \n",
       "889           10350.74       0  \n",
       "9103         158043.11       0  \n",
       "4727          22101.86       0  "
      ]
     },
     "execution_count": 2,
     "metadata": {},
     "output_type": "execute_result"
    }
   ],
   "source": [
    "data_raw = pd.read_csv('../datasets/churn.csv')\n",
    "\n",
    "# convert camel case to snake case\n",
    "data_raw.columns = [inflection.underscore(cols) for cols in data_raw.columns]\n",
    "\n",
    "# data sample\n",
    "data_raw.sample(10)"
   ]
  },
  {
   "cell_type": "markdown",
   "id": "27435c54",
   "metadata": {},
   "source": [
    "## 0.3. Split Data into Training and Test"
   ]
  },
  {
   "cell_type": "code",
   "execution_count": 3,
   "id": "84257108",
   "metadata": {
    "ExecuteTime": {
     "end_time": "2022-06-16T02:26:33.060151Z",
     "start_time": "2022-06-16T02:26:33.030141Z"
    }
   },
   "outputs": [],
   "source": [
    "data_train, data_test = ms.train_test_split(data_raw, test_size=0.2, random_state=42)"
   ]
  },
  {
   "cell_type": "markdown",
   "id": "58c1352a",
   "metadata": {},
   "source": [
    "# 1.0. Data Description"
   ]
  },
  {
   "cell_type": "code",
   "execution_count": 4,
   "id": "79fdd2a9",
   "metadata": {
    "ExecuteTime": {
     "end_time": "2022-06-16T02:26:33.108692Z",
     "start_time": "2022-06-16T02:26:33.081677Z"
    }
   },
   "outputs": [],
   "source": [
    "df01 = data_train.copy()"
   ]
  },
  {
   "cell_type": "markdown",
   "id": "b3b6b4b4",
   "metadata": {},
   "source": [
    "## 1.1. Features Description"
   ]
  },
  {
   "cell_type": "markdown",
   "id": "c7c9223c",
   "metadata": {},
   "source": [
    "- **RowNumber:** The column number;\n",
    "- **CustomerID:** Unique identifier of the customer;\n",
    "- **Surname:** Last name of the customer;\n",
    "- **CreditScore:** The customer's Credit Score for the consumer market;\n",
    "- **Geography:** The country where the customer resides;\n",
    "- **Gender:** The customer's gender;\n",
    "- **Age:** The customer's age;\n",
    "- **Tenure:** Number of years that the customer has been active;\n",
    "- **Balance:** Monetary value that the customer has in his bank account;\n",
    "- **NumOfProducts:** The number of products bought by the customer in the bank;\n",
    "- **HasCrCard:** Indicates whether or not the client has a credit card;\n",
    "- **IsActiveMember:** Indicates if the client has made at least one transaction in the bank account within the last 12 months;\n",
    "- **EstimatedSalary:** Indicates the client's estimated monthly salary;\n",
    "- **Exited:** Indicates whether or not the customer is in churn;"
   ]
  },
  {
   "cell_type": "markdown",
   "id": "a45ef3c9",
   "metadata": {},
   "source": [
    "## 1.2. Data Types"
   ]
  },
  {
   "cell_type": "code",
   "execution_count": 5,
   "id": "471641a5",
   "metadata": {
    "ExecuteTime": {
     "end_time": "2022-06-16T02:26:33.138728Z",
     "start_time": "2022-06-16T02:26:33.112679Z"
    }
   },
   "outputs": [
    {
     "data": {
      "text/plain": [
       "row_number            int64\n",
       "customer_id           int64\n",
       "surname              object\n",
       "credit_score          int64\n",
       "geography            object\n",
       "gender               object\n",
       "age                   int64\n",
       "tenure                int64\n",
       "balance             float64\n",
       "num_of_products       int64\n",
       "has_cr_card           int64\n",
       "is_active_member      int64\n",
       "estimated_salary    float64\n",
       "exited                int64\n",
       "dtype: object"
      ]
     },
     "execution_count": 5,
     "metadata": {},
     "output_type": "execute_result"
    }
   ],
   "source": [
    "df01.dtypes"
   ]
  },
  {
   "cell_type": "markdown",
   "id": "833a737a",
   "metadata": {},
   "source": [
    "## 1.3. Data Dimensions"
   ]
  },
  {
   "cell_type": "code",
   "execution_count": 6,
   "id": "81d169a5",
   "metadata": {
    "ExecuteTime": {
     "end_time": "2022-06-16T02:26:33.168239Z",
     "start_time": "2022-06-16T02:26:33.148673Z"
    }
   },
   "outputs": [
    {
     "name": "stdout",
     "output_type": "stream",
     "text": [
      "Number of Rows: 8000\n",
      "Number of Columns: 14\n"
     ]
    }
   ],
   "source": [
    "print(f'Number of Rows: {df01.shape[0]}')\n",
    "print(f'Number of Columns: {df01.shape[1]}')"
   ]
  },
  {
   "cell_type": "markdown",
   "id": "44c81e32",
   "metadata": {},
   "source": [
    "- Relatively small database"
   ]
  },
  {
   "cell_type": "markdown",
   "id": "fa0a6e34",
   "metadata": {},
   "source": [
    "## 1.4. Check NA"
   ]
  },
  {
   "cell_type": "code",
   "execution_count": 7,
   "id": "ecbd5f73",
   "metadata": {
    "ExecuteTime": {
     "end_time": "2022-06-16T02:26:33.246223Z",
     "start_time": "2022-06-16T02:26:33.178224Z"
    }
   },
   "outputs": [
    {
     "data": {
      "text/plain": [
       "row_number          0\n",
       "customer_id         0\n",
       "surname             0\n",
       "credit_score        0\n",
       "geography           0\n",
       "gender              0\n",
       "age                 0\n",
       "tenure              0\n",
       "balance             0\n",
       "num_of_products     0\n",
       "has_cr_card         0\n",
       "is_active_member    0\n",
       "estimated_salary    0\n",
       "exited              0\n",
       "dtype: int64"
      ]
     },
     "execution_count": 7,
     "metadata": {},
     "output_type": "execute_result"
    }
   ],
   "source": [
    "df01.isna().sum()"
   ]
  },
  {
   "cell_type": "markdown",
   "id": "0d560037",
   "metadata": {},
   "source": [
    "## 1.5. Fillout NA\n",
    "\n",
    "There is no NA in the dataset"
   ]
  },
  {
   "cell_type": "code",
   "execution_count": null,
   "id": "58d7c176",
   "metadata": {},
   "outputs": [],
   "source": []
  },
  {
   "cell_type": "markdown",
   "id": "f43c2c9c",
   "metadata": {},
   "source": [
    "## 1.6. Change Data Types"
   ]
  },
  {
   "cell_type": "code",
   "execution_count": 8,
   "id": "945e5cfb",
   "metadata": {
    "ExecuteTime": {
     "end_time": "2022-06-16T02:26:33.262225Z",
     "start_time": "2022-06-16T02:26:33.251220Z"
    }
   },
   "outputs": [],
   "source": [
    "# convert customer id to string\n",
    "df01['customer_id'] = df01['customer_id'].astype(object)"
   ]
  },
  {
   "cell_type": "markdown",
   "id": "d62427be",
   "metadata": {
    "ExecuteTime": {
     "end_time": "2022-06-16T02:19:04.044524Z",
     "start_time": "2022-06-16T02:19:04.038533Z"
    }
   },
   "source": [
    "## 1.7. Check Balance Data"
   ]
  },
  {
   "cell_type": "code",
   "execution_count": 9,
   "id": "627eca6f",
   "metadata": {
    "ExecuteTime": {
     "end_time": "2022-06-16T02:26:33.359231Z",
     "start_time": "2022-06-16T02:26:33.317235Z"
    }
   },
   "outputs": [
    {
     "data": {
      "text/plain": [
       "0    0.7945\n",
       "1    0.2055\n",
       "Name: exited, dtype: float64"
      ]
     },
     "execution_count": 9,
     "metadata": {},
     "output_type": "execute_result"
    }
   ],
   "source": [
    "df01['exited'].value_counts(normalize=True)"
   ]
  },
  {
   "cell_type": "markdown",
   "id": "e62ad327",
   "metadata": {},
   "source": [
    "Unbalanced dataset with 80/20 of the data for the negative and positive classes, respectively."
   ]
  },
  {
   "cell_type": "markdown",
   "id": "393d0417",
   "metadata": {},
   "source": [
    "## 1.8. Descriptive Analysis"
   ]
  },
  {
   "cell_type": "code",
   "execution_count": 10,
   "id": "083d4281",
   "metadata": {
    "ExecuteTime": {
     "end_time": "2022-06-16T02:26:33.406230Z",
     "start_time": "2022-06-16T02:26:33.374240Z"
    }
   },
   "outputs": [],
   "source": [
    "# select numeric attributes\n",
    "num_attributes = df01[['row_number', 'credit_score', 'age', 'tenure', 'balance', \n",
    "                       'num_of_products', 'estimated_salary']]\n",
    "\n",
    "# select categorical and binary attributes\n",
    "cat_attributes = df01[['customer_id', 'surname', 'geography', 'gender', 'has_cr_card', \n",
    "                       'is_active_member', 'exited']]"
   ]
  },
  {
   "cell_type": "markdown",
   "id": "ce057549",
   "metadata": {},
   "source": [
    "### 1.8.1. Numerical Attributes"
   ]
  },
  {
   "cell_type": "code",
   "execution_count": 11,
   "id": "e121082f",
   "metadata": {
    "ExecuteTime": {
     "end_time": "2022-06-16T02:26:33.658280Z",
     "start_time": "2022-06-16T02:26:33.420223Z"
    }
   },
   "outputs": [
    {
     "data": {
      "text/html": [
       "<div>\n",
       "<style scoped>\n",
       "    .dataframe tbody tr th:only-of-type {\n",
       "        vertical-align: middle;\n",
       "    }\n",
       "\n",
       "    .dataframe tbody tr th {\n",
       "        vertical-align: top;\n",
       "    }\n",
       "\n",
       "    .dataframe thead th {\n",
       "        text-align: right;\n",
       "    }\n",
       "</style>\n",
       "<table border=\"1\" class=\"dataframe\">\n",
       "  <thead>\n",
       "    <tr style=\"text-align: right;\">\n",
       "      <th></th>\n",
       "      <th>attributes</th>\n",
       "      <th>min</th>\n",
       "      <th>max</th>\n",
       "      <th>range</th>\n",
       "      <th>mean</th>\n",
       "      <th>median</th>\n",
       "      <th>skew</th>\n",
       "      <th>kurtosis</th>\n",
       "    </tr>\n",
       "  </thead>\n",
       "  <tbody>\n",
       "    <tr>\n",
       "      <th>0</th>\n",
       "      <td>row_number</td>\n",
       "      <td>2.00</td>\n",
       "      <td>10000.00</td>\n",
       "      <td>9998.00</td>\n",
       "      <td>5012.506875</td>\n",
       "      <td>5014.50</td>\n",
       "      <td>0.002263</td>\n",
       "      <td>-1.197591</td>\n",
       "    </tr>\n",
       "    <tr>\n",
       "      <th>1</th>\n",
       "      <td>credit_score</td>\n",
       "      <td>350.00</td>\n",
       "      <td>850.00</td>\n",
       "      <td>500.00</td>\n",
       "      <td>651.647625</td>\n",
       "      <td>653.00</td>\n",
       "      <td>-0.082577</td>\n",
       "      <td>-0.412964</td>\n",
       "    </tr>\n",
       "    <tr>\n",
       "      <th>2</th>\n",
       "      <td>age</td>\n",
       "      <td>18.00</td>\n",
       "      <td>92.00</td>\n",
       "      <td>74.00</td>\n",
       "      <td>38.897750</td>\n",
       "      <td>37.00</td>\n",
       "      <td>1.004232</td>\n",
       "      <td>1.322109</td>\n",
       "    </tr>\n",
       "    <tr>\n",
       "      <th>3</th>\n",
       "      <td>tenure</td>\n",
       "      <td>0.00</td>\n",
       "      <td>10.00</td>\n",
       "      <td>10.00</td>\n",
       "      <td>5.003875</td>\n",
       "      <td>5.00</td>\n",
       "      <td>0.015093</td>\n",
       "      <td>-1.150506</td>\n",
       "    </tr>\n",
       "    <tr>\n",
       "      <th>4</th>\n",
       "      <td>balance</td>\n",
       "      <td>0.00</td>\n",
       "      <td>250898.09</td>\n",
       "      <td>250898.09</td>\n",
       "      <td>76102.139645</td>\n",
       "      <td>96447.52</td>\n",
       "      <td>-0.129407</td>\n",
       "      <td>-1.493190</td>\n",
       "    </tr>\n",
       "    <tr>\n",
       "      <th>5</th>\n",
       "      <td>num_of_products</td>\n",
       "      <td>1.00</td>\n",
       "      <td>4.00</td>\n",
       "      <td>3.00</td>\n",
       "      <td>1.531375</td>\n",
       "      <td>1.00</td>\n",
       "      <td>0.721139</td>\n",
       "      <td>0.502987</td>\n",
       "    </tr>\n",
       "    <tr>\n",
       "      <th>6</th>\n",
       "      <td>estimated_salary</td>\n",
       "      <td>90.07</td>\n",
       "      <td>199970.74</td>\n",
       "      <td>199880.67</td>\n",
       "      <td>100431.289764</td>\n",
       "      <td>100487.72</td>\n",
       "      <td>-0.004443</td>\n",
       "      <td>-1.180224</td>\n",
       "    </tr>\n",
       "  </tbody>\n",
       "</table>\n",
       "</div>"
      ],
      "text/plain": [
       "         attributes     min        max      range           mean     median  \\\n",
       "0        row_number    2.00   10000.00    9998.00    5012.506875    5014.50   \n",
       "1      credit_score  350.00     850.00     500.00     651.647625     653.00   \n",
       "2               age   18.00      92.00      74.00      38.897750      37.00   \n",
       "3            tenure    0.00      10.00      10.00       5.003875       5.00   \n",
       "4           balance    0.00  250898.09  250898.09   76102.139645   96447.52   \n",
       "5   num_of_products    1.00       4.00       3.00       1.531375       1.00   \n",
       "6  estimated_salary   90.07  199970.74  199880.67  100431.289764  100487.72   \n",
       "\n",
       "       skew  kurtosis  \n",
       "0  0.002263 -1.197591  \n",
       "1 -0.082577 -0.412964  \n",
       "2  1.004232  1.322109  \n",
       "3  0.015093 -1.150506  \n",
       "4 -0.129407 -1.493190  \n",
       "5  0.721139  0.502987  \n",
       "6 -0.004443 -1.180224  "
      ]
     },
     "execution_count": 11,
     "metadata": {},
     "output_type": "execute_result"
    }
   ],
   "source": [
    "# central tendency - mean, median\n",
    "mean = pd.DataFrame(num_attributes.apply(np.mean)).T\n",
    "median = pd.DataFrame(num_attributes.apply(np.median)).T\n",
    "\n",
    "# dispersion tendency - std, min, max, range, skew, kurtosis\n",
    "std = pd.DataFrame(num_attributes.apply(np.std)).T\n",
    "min_ = pd.DataFrame(num_attributes.apply(min)).T\n",
    "max_ = pd.DataFrame(num_attributes.apply(max)).T\n",
    "range_ = pd.DataFrame(num_attributes.apply(lambda x: x.max() - x.min())).T\n",
    "skew = pd.DataFrame(num_attributes.apply(lambda x: x.skew())).T\n",
    "kurtosis = pd.DataFrame(num_attributes.apply(lambda x: x.kurtosis())).T\n",
    "\n",
    "# join dataframes\n",
    "num_stats = pd.concat([min_, max_, range_, mean, median, skew, kurtosis]).T.reset_index()\n",
    "num_stats.columns = ['attributes', 'min', 'max', 'range', 'mean', 'median', 'skew', 'kurtosis']\n",
    "\n",
    "# display numerical analysis\n",
    "num_stats"
   ]
  },
  {
   "cell_type": "markdown",
   "id": "eb50d1e2",
   "metadata": {},
   "source": [
    "- _credit_score_, _tenure_, _estimated_salary_ have a skew close to zero.\n",
    "\n",
    "- _estimated_salary_ shows a below-average minimum, it is probably a system error."
   ]
  },
  {
   "cell_type": "markdown",
   "id": "73a54e70",
   "metadata": {},
   "source": [
    "### 1.8.2. Categorical Attributes"
   ]
  },
  {
   "cell_type": "code",
   "execution_count": 12,
   "id": "d6d057ff",
   "metadata": {
    "ExecuteTime": {
     "end_time": "2022-06-16T02:26:33.832220Z",
     "start_time": "2022-06-16T02:26:33.664223Z"
    }
   },
   "outputs": [
    {
     "data": {
      "text/html": [
       "<div>\n",
       "<style scoped>\n",
       "    .dataframe tbody tr th:only-of-type {\n",
       "        vertical-align: middle;\n",
       "    }\n",
       "\n",
       "    .dataframe tbody tr th {\n",
       "        vertical-align: top;\n",
       "    }\n",
       "\n",
       "    .dataframe thead th {\n",
       "        text-align: right;\n",
       "    }\n",
       "</style>\n",
       "<table border=\"1\" class=\"dataframe\">\n",
       "  <thead>\n",
       "    <tr style=\"text-align: right;\">\n",
       "      <th></th>\n",
       "      <th>customer_id</th>\n",
       "      <th>surname</th>\n",
       "      <th>geography</th>\n",
       "      <th>gender</th>\n",
       "      <th>has_cr_card</th>\n",
       "      <th>is_active_member</th>\n",
       "      <th>exited</th>\n",
       "    </tr>\n",
       "  </thead>\n",
       "  <tbody>\n",
       "    <tr>\n",
       "      <th>count</th>\n",
       "      <td>8000</td>\n",
       "      <td>8000</td>\n",
       "      <td>8000</td>\n",
       "      <td>8000</td>\n",
       "      <td>8000</td>\n",
       "      <td>8000</td>\n",
       "      <td>8000</td>\n",
       "    </tr>\n",
       "    <tr>\n",
       "      <th>unique</th>\n",
       "      <td>8000</td>\n",
       "      <td>2618</td>\n",
       "      <td>3</td>\n",
       "      <td>2</td>\n",
       "      <td>2</td>\n",
       "      <td>2</td>\n",
       "      <td>2</td>\n",
       "    </tr>\n",
       "    <tr>\n",
       "      <th>top</th>\n",
       "      <td>15601116</td>\n",
       "      <td>Shih</td>\n",
       "      <td>France</td>\n",
       "      <td>Male</td>\n",
       "      <td>1</td>\n",
       "      <td>1</td>\n",
       "      <td>0</td>\n",
       "    </tr>\n",
       "    <tr>\n",
       "      <th>freq</th>\n",
       "      <td>1</td>\n",
       "      <td>24</td>\n",
       "      <td>3994</td>\n",
       "      <td>4362</td>\n",
       "      <td>5628</td>\n",
       "      <td>4102</td>\n",
       "      <td>6356</td>\n",
       "    </tr>\n",
       "  </tbody>\n",
       "</table>\n",
       "</div>"
      ],
      "text/plain": [
       "        customer_id surname geography gender  has_cr_card  is_active_member  \\\n",
       "count          8000    8000      8000   8000         8000              8000   \n",
       "unique         8000    2618         3      2            2                 2   \n",
       "top        15601116    Shih    France   Male            1                 1   \n",
       "freq              1      24      3994   4362         5628              4102   \n",
       "\n",
       "        exited  \n",
       "count     8000  \n",
       "unique       2  \n",
       "top          0  \n",
       "freq      6356  "
      ]
     },
     "execution_count": 12,
     "metadata": {},
     "output_type": "execute_result"
    }
   ],
   "source": [
    "cat_attributes.astype(object).describe()"
   ]
  },
  {
   "cell_type": "markdown",
   "id": "734e1e6d",
   "metadata": {},
   "source": [
    "- There are no repeated users in the database.\n",
    "- Almost half of the dataset is located in France.\n",
    "- Just over half of the database is an active member.\n",
    "- Database has similar numbers by gender.\n",
    "- Only 3 parents present in the dataset."
   ]
  },
  {
   "cell_type": "markdown",
   "id": "d2f16a0b",
   "metadata": {},
   "source": [
    "# 2.0. Feature Engineering"
   ]
  },
  {
   "cell_type": "code",
   "execution_count": 13,
   "id": "d53e01c0",
   "metadata": {
    "ExecuteTime": {
     "end_time": "2022-06-16T02:26:33.899226Z",
     "start_time": "2022-06-16T02:26:33.837221Z"
    }
   },
   "outputs": [],
   "source": [
    "df02 = df01.copy()"
   ]
  },
  {
   "cell_type": "markdown",
   "id": "4471ee49",
   "metadata": {},
   "source": [
    "# 3.0. Data Filtering"
   ]
  },
  {
   "cell_type": "code",
   "execution_count": 14,
   "id": "6dfcdff0",
   "metadata": {
    "ExecuteTime": {
     "end_time": "2022-06-16T02:26:33.946752Z",
     "start_time": "2022-06-16T02:26:33.907222Z"
    }
   },
   "outputs": [],
   "source": [
    "df03 = df02.copy()"
   ]
  },
  {
   "cell_type": "markdown",
   "id": "d2459af3",
   "metadata": {},
   "source": [
    "## 3.1. Filtering Rows"
   ]
  },
  {
   "cell_type": "code",
   "execution_count": null,
   "id": "2d7e22ff",
   "metadata": {},
   "outputs": [],
   "source": []
  },
  {
   "cell_type": "markdown",
   "id": "fce66e78",
   "metadata": {},
   "source": [
    "## 3.2. Columns Selection\n",
    "\n",
    "- _row_number_, _customer_id_ are removed from the dataset as they do not carry information of value for learning the models."
   ]
  },
  {
   "cell_type": "code",
   "execution_count": 15,
   "id": "2660cb98",
   "metadata": {
    "ExecuteTime": {
     "end_time": "2022-06-16T02:26:33.974753Z",
     "start_time": "2022-06-16T02:26:33.951754Z"
    }
   },
   "outputs": [],
   "source": [
    "df03 = df03.drop(columns=['row_number', 'customer_id'])"
   ]
  },
  {
   "cell_type": "markdown",
   "id": "b5422ee7",
   "metadata": {},
   "source": [
    "# 4.0. Exploratory Data Analysis"
   ]
  },
  {
   "cell_type": "code",
   "execution_count": 16,
   "id": "1594b616",
   "metadata": {
    "ExecuteTime": {
     "end_time": "2022-06-16T02:26:33.994765Z",
     "start_time": "2022-06-16T02:26:33.982752Z"
    }
   },
   "outputs": [],
   "source": [
    "df04 = df03.copy()"
   ]
  },
  {
   "cell_type": "markdown",
   "id": "860e7ca9",
   "metadata": {
    "ExecuteTime": {
     "end_time": "2022-06-16T02:23:03.445920Z",
     "start_time": "2022-06-16T02:23:03.439920Z"
    }
   },
   "source": [
    "# 5.0. Data Preparation"
   ]
  },
  {
   "cell_type": "code",
   "execution_count": 17,
   "id": "ec52ef21",
   "metadata": {
    "ExecuteTime": {
     "end_time": "2022-06-16T02:26:34.070755Z",
     "start_time": "2022-06-16T02:26:34.049753Z"
    }
   },
   "outputs": [],
   "source": [
    "df05 = df04.copy()"
   ]
  },
  {
   "cell_type": "markdown",
   "id": "50e3d721",
   "metadata": {},
   "source": [
    "## 5.1. Transformation"
   ]
  },
  {
   "cell_type": "markdown",
   "id": "923389c6",
   "metadata": {},
   "source": [
    "### 5.1.1. Encoding"
   ]
  },
  {
   "cell_type": "code",
   "execution_count": 18,
   "id": "a3373c21",
   "metadata": {
    "ExecuteTime": {
     "end_time": "2022-06-16T02:26:34.545951Z",
     "start_time": "2022-06-16T02:26:34.077754Z"
    }
   },
   "outputs": [],
   "source": [
    "# one hot encoding\n",
    "df05 = pd.get_dummies(df05)"
   ]
  },
  {
   "cell_type": "markdown",
   "id": "2a1992bb",
   "metadata": {},
   "source": [
    "## 5.2. Data Preparation Check"
   ]
  },
  {
   "cell_type": "code",
   "execution_count": 19,
   "id": "fb92f2f0",
   "metadata": {
    "ExecuteTime": {
     "end_time": "2022-06-16T02:26:34.751931Z",
     "start_time": "2022-06-16T02:26:34.573929Z"
    }
   },
   "outputs": [
    {
     "data": {
      "text/html": [
       "<div>\n",
       "<style scoped>\n",
       "    .dataframe tbody tr th:only-of-type {\n",
       "        vertical-align: middle;\n",
       "    }\n",
       "\n",
       "    .dataframe tbody tr th {\n",
       "        vertical-align: top;\n",
       "    }\n",
       "\n",
       "    .dataframe thead th {\n",
       "        text-align: right;\n",
       "    }\n",
       "</style>\n",
       "<table border=\"1\" class=\"dataframe\">\n",
       "  <thead>\n",
       "    <tr style=\"text-align: right;\">\n",
       "      <th></th>\n",
       "      <th>9254</th>\n",
       "      <th>1561</th>\n",
       "      <th>1670</th>\n",
       "      <th>6087</th>\n",
       "      <th>6669</th>\n",
       "    </tr>\n",
       "  </thead>\n",
       "  <tbody>\n",
       "    <tr>\n",
       "      <th>credit_score</th>\n",
       "      <td>686.0</td>\n",
       "      <td>632.0</td>\n",
       "      <td>559.00</td>\n",
       "      <td>561.0</td>\n",
       "      <td>517.00</td>\n",
       "    </tr>\n",
       "    <tr>\n",
       "      <th>age</th>\n",
       "      <td>32.0</td>\n",
       "      <td>42.0</td>\n",
       "      <td>24.00</td>\n",
       "      <td>27.0</td>\n",
       "      <td>56.00</td>\n",
       "    </tr>\n",
       "    <tr>\n",
       "      <th>tenure</th>\n",
       "      <td>6.0</td>\n",
       "      <td>4.0</td>\n",
       "      <td>3.00</td>\n",
       "      <td>9.0</td>\n",
       "      <td>9.00</td>\n",
       "    </tr>\n",
       "    <tr>\n",
       "      <th>balance</th>\n",
       "      <td>0.0</td>\n",
       "      <td>119624.6</td>\n",
       "      <td>114739.92</td>\n",
       "      <td>135637.0</td>\n",
       "      <td>142147.32</td>\n",
       "    </tr>\n",
       "    <tr>\n",
       "      <th>num_of_products</th>\n",
       "      <td>2.0</td>\n",
       "      <td>2.0</td>\n",
       "      <td>1.00</td>\n",
       "      <td>1.0</td>\n",
       "      <td>1.00</td>\n",
       "    </tr>\n",
       "    <tr>\n",
       "      <th>...</th>\n",
       "      <td>...</td>\n",
       "      <td>...</td>\n",
       "      <td>...</td>\n",
       "      <td>...</td>\n",
       "      <td>...</td>\n",
       "    </tr>\n",
       "    <tr>\n",
       "      <th>geography_France</th>\n",
       "      <td>1.0</td>\n",
       "      <td>0.0</td>\n",
       "      <td>0.00</td>\n",
       "      <td>1.0</td>\n",
       "      <td>1.00</td>\n",
       "    </tr>\n",
       "    <tr>\n",
       "      <th>geography_Germany</th>\n",
       "      <td>0.0</td>\n",
       "      <td>1.0</td>\n",
       "      <td>0.00</td>\n",
       "      <td>0.0</td>\n",
       "      <td>0.00</td>\n",
       "    </tr>\n",
       "    <tr>\n",
       "      <th>geography_Spain</th>\n",
       "      <td>0.0</td>\n",
       "      <td>0.0</td>\n",
       "      <td>1.00</td>\n",
       "      <td>0.0</td>\n",
       "      <td>0.00</td>\n",
       "    </tr>\n",
       "    <tr>\n",
       "      <th>gender_Female</th>\n",
       "      <td>0.0</td>\n",
       "      <td>0.0</td>\n",
       "      <td>0.00</td>\n",
       "      <td>1.0</td>\n",
       "      <td>0.00</td>\n",
       "    </tr>\n",
       "    <tr>\n",
       "      <th>gender_Male</th>\n",
       "      <td>1.0</td>\n",
       "      <td>1.0</td>\n",
       "      <td>1.00</td>\n",
       "      <td>0.0</td>\n",
       "      <td>1.00</td>\n",
       "    </tr>\n",
       "  </tbody>\n",
       "</table>\n",
       "<p>2632 rows × 5 columns</p>\n",
       "</div>"
      ],
      "text/plain": [
       "                    9254      1561       1670      6087       6669\n",
       "credit_score       686.0     632.0     559.00     561.0     517.00\n",
       "age                 32.0      42.0      24.00      27.0      56.00\n",
       "tenure               6.0       4.0       3.00       9.0       9.00\n",
       "balance              0.0  119624.6  114739.92  135637.0  142147.32\n",
       "num_of_products      2.0       2.0       1.00       1.0       1.00\n",
       "...                  ...       ...        ...       ...        ...\n",
       "geography_France     1.0       0.0       0.00       1.0       1.00\n",
       "geography_Germany    0.0       1.0       0.00       0.0       0.00\n",
       "geography_Spain      0.0       0.0       1.00       0.0       0.00\n",
       "gender_Female        0.0       0.0       0.00       1.0       0.00\n",
       "gender_Male          1.0       1.0       1.00       0.0       1.00\n",
       "\n",
       "[2632 rows x 5 columns]"
      ]
     },
     "execution_count": 19,
     "metadata": {},
     "output_type": "execute_result"
    }
   ],
   "source": [
    "# display data after preparation\n",
    "df05.head().T"
   ]
  },
  {
   "cell_type": "markdown",
   "id": "2cbcd6f3",
   "metadata": {},
   "source": [
    "# 6.0. Feature Selection"
   ]
  },
  {
   "cell_type": "code",
   "execution_count": 20,
   "id": "f6e6e92b",
   "metadata": {
    "ExecuteTime": {
     "end_time": "2022-06-16T02:26:34.843296Z",
     "start_time": "2022-06-16T02:26:34.757957Z"
    }
   },
   "outputs": [],
   "source": [
    "df06 = df05.copy()"
   ]
  },
  {
   "cell_type": "markdown",
   "id": "633036b3",
   "metadata": {},
   "source": [
    "## 6.1. Split Dataframe into Training and Validation Dataset"
   ]
  },
  {
   "cell_type": "code",
   "execution_count": 21,
   "id": "14a9f8f1",
   "metadata": {
    "ExecuteTime": {
     "end_time": "2022-06-16T02:26:34.938415Z",
     "start_time": "2022-06-16T02:26:34.855349Z"
    }
   },
   "outputs": [],
   "source": [
    "# features dataset\n",
    "X = df06.drop(columns='exited')\n",
    "\n",
    "# response dataset\n",
    "y = df06['exited']"
   ]
  },
  {
   "cell_type": "code",
   "execution_count": 22,
   "id": "8a69326c",
   "metadata": {
    "ExecuteTime": {
     "end_time": "2022-06-16T02:26:35.377418Z",
     "start_time": "2022-06-16T02:26:34.953420Z"
    }
   },
   "outputs": [],
   "source": [
    "# split dataset into training and validation\n",
    "X_train, X_val, y_train, y_val = ms.train_test_split(X, y, test_size=0.2, random_state=42)"
   ]
  },
  {
   "cell_type": "markdown",
   "id": "2a86f53a",
   "metadata": {},
   "source": [
    "# 7.0. Machine Learning Model"
   ]
  },
  {
   "cell_type": "code",
   "execution_count": 23,
   "id": "d472f81b",
   "metadata": {
    "ExecuteTime": {
     "end_time": "2022-06-16T02:26:35.403423Z",
     "start_time": "2022-06-16T02:26:35.380417Z"
    }
   },
   "outputs": [],
   "source": [
    "# select data for machine learning models\n",
    "x_train = X_train\n",
    "x_val = X_val"
   ]
  },
  {
   "cell_type": "markdown",
   "id": "647ee45d",
   "metadata": {},
   "source": [
    "## 7.1. Random Forest Classifier"
   ]
  },
  {
   "cell_type": "code",
   "execution_count": 24,
   "id": "169e0a49",
   "metadata": {
    "ExecuteTime": {
     "end_time": "2022-06-16T02:27:12.696521Z",
     "start_time": "2022-06-16T02:26:35.408414Z"
    }
   },
   "outputs": [],
   "source": [
    "model_rf = RandomForestClassifier(random_state=42).fit(x_train, y_train)"
   ]
  },
  {
   "cell_type": "markdown",
   "id": "79d65d8f",
   "metadata": {
    "ExecuteTime": {
     "end_time": "2022-06-16T02:25:56.146356Z",
     "start_time": "2022-06-16T02:25:56.136331Z"
    }
   },
   "source": [
    "### 7.1.1. Performance"
   ]
  },
  {
   "cell_type": "code",
   "execution_count": 25,
   "id": "d95eafbe",
   "metadata": {
    "ExecuteTime": {
     "end_time": "2022-06-16T02:27:13.076523Z",
     "start_time": "2022-06-16T02:27:12.702523Z"
    }
   },
   "outputs": [
    {
     "data": {
      "text/html": [
       "<div>\n",
       "<style scoped>\n",
       "    .dataframe tbody tr th:only-of-type {\n",
       "        vertical-align: middle;\n",
       "    }\n",
       "\n",
       "    .dataframe tbody tr th {\n",
       "        vertical-align: top;\n",
       "    }\n",
       "\n",
       "    .dataframe thead th {\n",
       "        text-align: right;\n",
       "    }\n",
       "</style>\n",
       "<table border=\"1\" class=\"dataframe\">\n",
       "  <thead>\n",
       "    <tr style=\"text-align: right;\">\n",
       "      <th></th>\n",
       "      <th>model</th>\n",
       "      <th>accuracy</th>\n",
       "      <th>precision</th>\n",
       "      <th>recall</th>\n",
       "    </tr>\n",
       "  </thead>\n",
       "  <tbody>\n",
       "    <tr>\n",
       "      <th>0</th>\n",
       "      <td>Random Forest Classifier</td>\n",
       "      <td>0.85125</td>\n",
       "      <td>0.839695</td>\n",
       "      <td>0.336391</td>\n",
       "    </tr>\n",
       "  </tbody>\n",
       "</table>\n",
       "</div>"
      ],
      "text/plain": [
       "                      model  accuracy  precision    recall\n",
       "0  Random Forest Classifier   0.85125   0.839695  0.336391"
      ]
     },
     "execution_count": 25,
     "metadata": {},
     "output_type": "execute_result"
    }
   ],
   "source": [
    "# prediction in validation dataset\n",
    "y_rf_pred = model_rf.predict(x_val)\n",
    "\n",
    "# accuracy\n",
    "acc_rf = accuracy_score(y_val, y_rf_pred)\n",
    "\n",
    "# precision\n",
    "prec_rf = precision_score(y_val, y_rf_pred)\n",
    "\n",
    "# recall\n",
    "recall_rf = recall_score(y_val, y_rf_pred)\n",
    "\n",
    "# performance of model\n",
    "performance_rf = pd.DataFrame({'model': 'Random Forest Classifier', \n",
    "                               'accuracy': acc_rf, \n",
    "                               'precision': prec_rf, \n",
    "                               'recall': recall_rf}, \n",
    "                              index=[0])\n",
    "\n",
    "# display performance\n",
    "performance_rf"
   ]
  },
  {
   "cell_type": "code",
   "execution_count": 26,
   "id": "ff123f4e",
   "metadata": {
    "ExecuteTime": {
     "end_time": "2022-06-16T02:27:13.107521Z",
     "start_time": "2022-06-16T02:27:13.082525Z"
    }
   },
   "outputs": [
    {
     "data": {
      "text/plain": [
       "0    0.918125\n",
       "1    0.081875\n",
       "dtype: float64"
      ]
     },
     "execution_count": 26,
     "metadata": {},
     "output_type": "execute_result"
    }
   ],
   "source": [
    "# check balancing of predicition\n",
    "pd.DataFrame(y_rf_pred).value_counts(normalize=True)"
   ]
  }
 ],
 "metadata": {
  "kernelspec": {
   "display_name": "Python 3 (ipykernel)",
   "language": "python",
   "name": "python3"
  },
  "language_info": {
   "codemirror_mode": {
    "name": "ipython",
    "version": 3
   },
   "file_extension": ".py",
   "mimetype": "text/x-python",
   "name": "python",
   "nbconvert_exporter": "python",
   "pygments_lexer": "ipython3",
   "version": "3.8.13"
  },
  "toc": {
   "base_numbering": 1,
   "nav_menu": {},
   "number_sections": false,
   "sideBar": true,
   "skip_h1_title": false,
   "title_cell": "Table of Contents",
   "title_sidebar": "Contents",
   "toc_cell": false,
   "toc_position": {},
   "toc_section_display": true,
   "toc_window_display": true
  },
  "varInspector": {
   "cols": {
    "lenName": 16,
    "lenType": 16,
    "lenVar": 40
   },
   "kernels_config": {
    "python": {
     "delete_cmd_postfix": "",
     "delete_cmd_prefix": "del ",
     "library": "var_list.py",
     "varRefreshCmd": "print(var_dic_list())"
    },
    "r": {
     "delete_cmd_postfix": ") ",
     "delete_cmd_prefix": "rm(",
     "library": "var_list.r",
     "varRefreshCmd": "cat(var_dic_list()) "
    }
   },
   "types_to_exclude": [
    "module",
    "function",
    "builtin_function_or_method",
    "instance",
    "_Feature"
   ],
   "window_display": false
  }
 },
 "nbformat": 4,
 "nbformat_minor": 5
}
